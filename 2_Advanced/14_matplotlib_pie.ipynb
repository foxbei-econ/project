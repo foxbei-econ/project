{
 "cells": [
  {
   "cell_type": "code",
   "execution_count": 116,
   "metadata": {},
   "outputs": [],
   "source": [
    "# Importing Libraries\n",
    "import ast\n",
    "import pandas as pd\n",
    "from datasets import load_dataset\n",
    "import matplotlib.pyplot as plt \n",
    "\n",
    "# Loading Data\n",
    "dataset = load_dataset('lukebarousse/data_jobs')\n",
    "df = dataset['train'].to_pandas()\n",
    "\n",
    "# Data Cleanup\n",
    "df['job_posted_date'] = pd.to_datetime(df['job_posted_date'])\n",
    "df['job_skills'] = df['job_skills'].apply(lambda x: ast.literal_eval(x) if pd.notna(x) else x)"
   ]
  },
  {
   "cell_type": "code",
   "execution_count": 118,
   "metadata": {},
   "outputs": [
    {
     "data": {
      "text/plain": [
       "2027466685840"
      ]
     },
     "execution_count": 118,
     "metadata": {},
     "output_type": "execute_result"
    }
   ],
   "source": [
    "# df.head(3)\n",
    "id(df)"
   ]
  },
  {
   "cell_type": "code",
   "execution_count": null,
   "metadata": {},
   "outputs": [],
   "source": [
    "df_DA = df[df['job_title_short']=='Data Analyst']\n",
    "counts = df_DA['job_health_insurance'].value_counts()   #apply value_counts() only to column/list  \n",
    "\n",
    "plt.figure(figsize=(4,4))\n",
    "plt.pie(counts.values,labels=['No','Yes'],startangle=90,autopct='%.1f%%')\n",
    "plt.title('Proportion of Data Analyst Jobs Mentioning Health Insurance')\n",
    "plt.show()"
   ]
  },
  {
   "cell_type": "code",
   "execution_count": null,
   "metadata": {},
   "outputs": [],
   "source": [
    "plt.figure(figsize=(4,4))\n",
    "\n",
    "# df_ft_pt = df[df['job_schedule_type'].isin(['Full-time','Part-time'])]\n",
    "df_ft_pt = df[(df['job_schedule_type']=='Full-time') | (df['job_schedule_type']=='Part-time')]\n",
    "counts = df_ft_pt['job_schedule_type'].value_counts()\n",
    "\n",
    "    \n",
    "# plt.subplot(1,1,1)\n",
    "plt.pie(counts.values,labels=['Full-time','Part-time'],startangle=90,autopct='%.1f%%')\n",
    "plt.title('Job Schedule Full-time vs. Part-time')\n",
    "\n",
    "plt.show()"
   ]
  },
  {
   "cell_type": "code",
   "execution_count": null,
   "metadata": {},
   "outputs": [],
   "source": [
    "df_US = df[df['job_country']=='United States']\n",
    "counts = df_US['job_no_degree_mention'].value_counts()\n",
    "# print(id(df)==id(df_US))\n",
    "\n",
    "explode = [0,0.1]\n",
    "plt.pie(counts.values,labels=['degree','no degree'],startangle=90,autopct='%.1f%%',explode=explode)\n",
    "plt.title('Distribution of Jobs Mentioning Degrees for US Job Postings')\n",
    "plt.show()"
   ]
  },
  {
   "cell_type": "code",
   "execution_count": 119,
   "metadata": {},
   "outputs": [
    {
     "data": {
      "text/plain": [
       "2028608448144"
      ]
     },
     "execution_count": 119,
     "metadata": {},
     "output_type": "execute_result"
    }
   ],
   "source": [
    "df = df[df['job_title_short'] == 'Data Analyst'].copy()\n",
    "id(df)"
   ]
  },
  {
   "cell_type": "code",
   "execution_count": 126,
   "metadata": {},
   "outputs": [
    {
     "name": "stdout",
     "output_type": "stream",
     "text": [
      "            median_salary  skill_count\n",
      "job_skills                            \n",
      "sql               92500.0        92428\n",
      "excel             84479.0        66860\n",
      "python            98500.0        57190\n",
      "tableau           95000.0        46455\n",
      "power bi          90000.0        39380\n",
      "r                 92527.5        29996\n",
      "sas               90000.0        27998\n",
      "powerpoint        85000.0        13822\n",
      "word              80000.0        13562\n",
      "sap               90000.0        11280\n",
      "92428\n"
     ]
    }
   ],
   "source": [
    "df_exploded = df.explode('job_skills')\n",
    "\n",
    "skill_stats = df_exploded.groupby('job_skills').agg(\n",
    "    median_salary=('salary_year_avg', 'median'),\n",
    "    skill_count=('job_skills', 'count')\n",
    ")\n",
    "\n",
    "# Limit to the top 10 skills by highest salary\n",
    "skill_stats = skill_stats.sort_values(by='skill_count', ascending=False).head(10)\n",
    "\n",
    "print(skill_stats)\n",
    "print(skill_stats['skill_count'].iloc[0])\n",
    "# print(skill_stats.index,skill_stats['skill_count'].iloc[0],skill_stats['median_salary'])"
   ]
  },
  {
   "cell_type": "code",
   "execution_count": null,
   "metadata": {},
   "outputs": [],
   "source": [
    "skill_stats.plot(kind='scatter', x='skill_count', y='median_salary')\n",
    "plt.xlabel('Count of Job Postings')\n",
    "plt.ylabel('Median Yearly Salary')\n",
    "plt.title('Salary vs. Count of Job Postings for Top 10 Skills')\n",
    "plt.tight_layout()\n",
    "plt.show()"
   ]
  },
  {
   "cell_type": "code",
   "execution_count": null,
   "metadata": {},
   "outputs": [],
   "source": [
    "skill_stats.plot(kind='scatter', x='skill_count', y='median_salary')\n",
    "\n",
    "# plt.text() function to label the points\n",
    "for i, txt in enumerate(skill_stats.index):\n",
    "    plt.text(skill_stats['skill_count'].iloc[i], skill_stats['median_salary'].iloc[i], txt)\n",
    "\n",
    "plt.xlabel('Count of Job Postings')\n",
    "plt.ylabel('Median Yearly Salary')\n",
    "plt.title('Salary vs. Count of Top Skills in Data Analyst Jobs')\n",
    "plt.tight_layout()\n",
    "plt.show()"
   ]
  }
 ],
 "metadata": {
  "kernelspec": {
   "display_name": "py311",
   "language": "python",
   "name": "python3"
  },
  "language_info": {
   "codemirror_mode": {
    "name": "ipython",
    "version": 3
   },
   "file_extension": ".py",
   "mimetype": "text/x-python",
   "name": "python",
   "nbconvert_exporter": "python",
   "pygments_lexer": "ipython3",
   "version": "3.11.10"
  }
 },
 "nbformat": 4,
 "nbformat_minor": 2
}
