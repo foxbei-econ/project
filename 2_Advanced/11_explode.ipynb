{
 "cells": [
  {
   "cell_type": "code",
   "execution_count": null,
   "metadata": {},
   "outputs": [],
   "source": [
    "from datasets import load_dataset\n",
    "import pandas as pd\n",
    "import matplotlib.pyplot as plt\n",
    "import openpyxl\n",
    "import ast\n",
    "\n",
    "\n",
    "dataset = load_dataset('lukebarousse/data_jobs')\n",
    "df = dataset['train'].to_pandas()\n",
    "df['job_posted_date'] = pd.to_datetime(df['job_posted_date'])\n",
    "df.head(3)"
   ]
  },
  {
   "cell_type": "code",
   "execution_count": null,
   "metadata": {},
   "outputs": [],
   "source": [
    "df['job_skills'] = df['job_skills'].apply(lambda x: ast.literal_eval(x) if pd.notna(x) else x)    #NaN is NOT dropped from \n",
    "\n",
    "df_CE = df[df['job_title_short']=='Cloud Engineer'].copy()\n",
    "\n",
    "df_explode = df_CE.explode('job_skills')\n",
    "counts = df_explode['job_skills'].value_counts().head(10)\n",
    "\n",
    "counts.plot(kind='bar')\n",
    "\n",
    "plt.title('Top 10 Most Common Skills for Cloud Engineers')\n",
    "plt.xlabel('Skills')\n",
    "plt.ylabel('Count')\n",
    "\n",
    "plt.show()"
   ]
  },
  {
   "cell_type": "code",
   "execution_count": null,
   "metadata": {},
   "outputs": [],
   "source": [
    "df['job_skills'] = df['job_skills'].apply(lambda x: ast.literal_eval(x) if pd.notna(x) else x)\n",
    "df_explode = df.explode('job_skills')"
   ]
  },
  {
   "cell_type": "code",
   "execution_count": null,
   "metadata": {},
   "outputs": [],
   "source": [
    "df_filter = df_explode.groupby('job_skills')['salary_year_avg'].mean().reset_index(name='salary_avg')\n",
    "# df_filter.sort_values(by=['salary_avg'],ascending=False,inplace=True)\n",
    "df_filter = df_filter.sort_values(by=['salary_avg'],ascending=False).head()\n",
    "\n",
    "df_filter"
   ]
  },
  {
   "cell_type": "code",
   "execution_count": null,
   "metadata": {},
   "outputs": [],
   "source": [
    "df['job_skills'] = df['job_skills'].apply(lambda x: ast.literal_eval(x) if pd.notna(x) else x)\n",
    "df_explode = df.explode('job_skills')"
   ]
  },
  {
   "cell_type": "code",
   "execution_count": null,
   "metadata": {},
   "outputs": [],
   "source": [
    "df_num_skills = df_explode.groupby('job_title_short')['job_skills'].nunique().reset_index()\n",
    "df_num_skills.columns = ['job_title_short', 'num_unique_skills']\n",
    "df_num_skills.head()"
   ]
  },
  {
   "cell_type": "code",
   "execution_count": 200,
   "metadata": {},
   "outputs": [
    {
     "name": "stdout",
     "output_type": "stream",
     "text": [
      "               Bonus            Salary         \n",
      "Job Title  Associate Manager Associate  Manager\n",
      "Department                                     \n",
      "HR            4000.0  6000.0   60000.0  80000.0\n",
      "IT            5500.0  7000.0   75000.0  90000.0\n",
      "Sales         3000.0  5000.0   50000.0  70000.0\n"
     ]
    }
   ],
   "source": [
    "\n",
    "# Sample DataFrame\n",
    "data = {\n",
    "    'Department': ['Sales', 'Sales', 'HR', 'HR', 'IT', 'IT'],\n",
    "    'Job Title': ['Manager', 'Associate', 'Manager', 'Associate', 'Manager', 'Associate'],\n",
    "    'Salary': [70000, 50000, 80000, 60000, 90000, 75000],\n",
    "    'Bonus': [5000, 3000, 6000, 4000, 7000, 5500]\n",
    "}\n",
    "df = pd.DataFrame(data)\n",
    "df\n",
    "\n",
    "# Create a pivot table without specifying `values`\n",
    "pivot_df = df.pivot_table(index='Department', columns='Job Title', aggfunc='mean')\n",
    "print(pivot_df)"
   ]
  },
  {
   "cell_type": "code",
   "execution_count": null,
   "metadata": {},
   "outputs": [],
   "source": []
  },
  {
   "cell_type": "code",
   "execution_count": null,
   "metadata": {},
   "outputs": [],
   "source": []
  }
 ],
 "metadata": {
  "kernelspec": {
   "display_name": "py311",
   "language": "python",
   "name": "python3"
  },
  "language_info": {
   "codemirror_mode": {
    "name": "ipython",
    "version": 3
   },
   "file_extension": ".py",
   "mimetype": "text/x-python",
   "name": "python",
   "nbconvert_exporter": "python",
   "pygments_lexer": "ipython3",
   "version": "3.11.10"
  }
 },
 "nbformat": 4,
 "nbformat_minor": 2
}
