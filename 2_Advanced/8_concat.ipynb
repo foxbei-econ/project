{
 "cells": [
  {
   "cell_type": "code",
   "execution_count": null,
   "metadata": {},
   "outputs": [],
   "source": [
    "from datasets import load_dataset\n",
    "import pandas as pd\n",
    "import matplotlib.pyplot as plt\n",
    "import openpyxl\n",
    "\n",
    "dataset = load_dataset('lukebarousse/data_jobs')\n",
    "df = dataset['train'].to_pandas()\n",
    "df['job_posted_date'] = pd.to_datetime(df['job_posted_date'])\n",
    "df.head(3)"
   ]
  },
  {
   "cell_type": "code",
   "execution_count": null,
   "metadata": {},
   "outputs": [],
   "source": [
    "data_scientist_df = df[df['job_title_short']=='Data Scientist'].copy()\n",
    "data_scientist_df\n",
    "data_analyst_df = df[df['job_title_short']=='Data Analyst'].copy()\n",
    "# data_analyst_df\n",
    "\n",
    "combined_df = pd.concat([data_scientist_df,data_analyst_df],ignore_index=True)\n",
    "combined_df"
   ]
  },
  {
   "cell_type": "code",
   "execution_count": null,
   "metadata": {},
   "outputs": [],
   "source": [
    "df['job_posted_month'] = df['job_posted_date'].dt.strftime('%b')\n",
    "# df\n",
    "# df = df.groupby('job_posted_month')['job_title_short'].value_counts().reset_index(name='job_count')\n",
    "oct_df = df[df['job_posted_month']=='Oct']\n",
    "# oct_df\n",
    "nov_df = df[df['job_posted_month']=='Nov']\n",
    "dec_df = df[df['job_posted_month']=='Dec']\n",
    "\n",
    "combined_df = pd.concat([oct_df,nov_df,dec_df],ignore_index=True)\n",
    "combined_df"
   ]
  },
  {
   "cell_type": "code",
   "execution_count": null,
   "metadata": {},
   "outputs": [],
   "source": [
    "full_time_df = df[df['job_schedule_type']=='Full-time']\n",
    "# full_time_df\n",
    "part_time_df = df[df['job_schedule_type']=='Part-time']\n",
    "# part_time_df\n",
    "combined_df = pd.concat([full_time_df, part_time_df],ignore_index=True)\n",
    "combined_df"
   ]
  },
  {
   "cell_type": "code",
   "execution_count": 40,
   "metadata": {},
   "outputs": [],
   "source": [
    "df.to_csv('df_test.csv',index=False)"
   ]
  },
  {
   "cell_type": "code",
   "execution_count": 41,
   "metadata": {},
   "outputs": [],
   "source": [
    "df_filter = df[df['job_title_short']=='Data Scientist'].copy()\n",
    "df_filter.to_csv('data_scientist_jobs.csv',index=False)"
   ]
  },
  {
   "cell_type": "code",
   "execution_count": null,
   "metadata": {},
   "outputs": [],
   "source": [
    "df_loc_filter = df[df['job_location']=='New York, NY'].copy()\n",
    "df_loc_filter.to_excel('new_york_jobs.xlsx',index=False)\n",
    "df_loc_filter.head()   "
   ]
  },
  {
   "cell_type": "code",
   "execution_count": null,
   "metadata": {},
   "outputs": [],
   "source": []
  }
 ],
 "metadata": {
  "kernelspec": {
   "display_name": "py311",
   "language": "python",
   "name": "python3"
  },
  "language_info": {
   "codemirror_mode": {
    "name": "ipython",
    "version": 3
   },
   "file_extension": ".py",
   "mimetype": "text/x-python",
   "name": "python",
   "nbconvert_exporter": "python",
   "pygments_lexer": "ipython3",
   "version": "3.11.10"
  }
 },
 "nbformat": 4,
 "nbformat_minor": 2
}
