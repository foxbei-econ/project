{
 "cells": [
  {
   "cell_type": "code",
   "execution_count": 198,
   "metadata": {},
   "outputs": [],
   "source": [
    "# Importing Libraries\n",
    "import ast\n",
    "import pandas as pd\n",
    "from datasets import load_dataset\n",
    "import matplotlib.pyplot as plt \n",
    "import seaborn as sns\n",
    "\n",
    "# Loading Data\n",
    "dataset = load_dataset('lukebarousse/data_jobs')\n",
    "df = dataset['train'].to_pandas()\n",
    "\n",
    "# Data Cleanup\n",
    "df['job_posted_date'] = pd.to_datetime(df['job_posted_date'])\n",
    "df['job_skills'] = df['job_skills'].apply(lambda x: ast.literal_eval(x) if pd.notna(x) else x)\n"
   ]
  },
  {
   "cell_type": "code",
   "execution_count": null,
   "metadata": {},
   "outputs": [],
   "source": [
    "df.head(3)"
   ]
  },
  {
   "cell_type": "code",
   "execution_count": null,
   "metadata": {},
   "outputs": [],
   "source": [
    "df_DA_US = df[(df['job_title_short']=='Data Analyst') & (df['job_country']=='United States')].copy()\n",
    "\n",
    "df_DA_US['job_posted_mo'] = df_DA_US['job_posted_date'].dt.month      #.to_period('M')\n",
    "df_DA_US_explode = df_DA_US.explode('job_skills')\n",
    "df_DA_US_explode.head(3)"
   ]
  },
  {
   "cell_type": "code",
   "execution_count": null,
   "metadata": {},
   "outputs": [],
   "source": [
    "df_DA_US_pivot = pd.pivot_table(df_DA_US_explode,index='job_posted_mo',columns='job_skills',aggfunc='size')\n",
    "df_DA_US_pivot.loc['total'] = df_DA_US_pivot.sum()\n",
    "df_DA_US_pivot = df_DA_US_pivot[df_DA_US_pivot.loc['total'].sort_values(ascending=False).index]\n",
    "df_DA_US_pivot = df_DA_US_pivot.drop(index=['total'])\n",
    "# df_DA_US_pivot.columns\n",
    "df_DA_US_pivot"
   ]
  },
  {
   "cell_type": "code",
   "execution_count": null,
   "metadata": {},
   "outputs": [],
   "source": [
    "df_DA_US_pivot.iloc[:,:5].plot(kind='line')\n",
    "\n",
    "plt.title('top 5 skills for data analysts, indexed by month')\n",
    "plt.xlabel('')\n",
    "plt.ylabel('number of occurances')\n",
    "# plt.legend()\n",
    "plt.show()"
   ]
  },
  {
   "cell_type": "code",
   "execution_count": null,
   "metadata": {},
   "outputs": [],
   "source": [
    "df_plot = df_DA_US_pivot.iloc[:,:5]\n",
    "\n",
    "for i,skill in enumerate(df_plot.columns):\n",
    "    plt.plot(df_plot.index,df_plot[skill],label=skill)\n",
    "\n",
    "plt.title('top 5 skills for data analysts, indexed by month')\n",
    "plt.xlabel('')\n",
    "plt.ylabel('number of occurances')\n",
    "plt.legend()\n",
    "plt.show()"
   ]
  },
  {
   "cell_type": "code",
   "execution_count": null,
   "metadata": {},
   "outputs": [],
   "source": [
    "DA_totals = df_DA_US.groupby('job_posted_mo').size().reset_index(name='job_total')\n",
    "DA_totals.set_index('job_posted_mo',inplace=True)\n",
    "df_merge = pd.merge(df_DA_US_pivot,DA_totals,how='left',on='job_posted_mo')\n",
    "df_merge.columns\n",
    "\n",
    "df_merge_perc = {}\n",
    "\n",
    "for i,skill in enumerate(df_merge.columns):\n",
    "    skill_new = skill + '%'\n",
    "    df_merge_perc[skill_new] = df_merge[skill]/df_merge['job_total']\n",
    "\n",
    "df_merge_perc = pd.DataFrame(df_merge_perc)\n",
    "df_merge_perc"
   ]
  },
  {
   "cell_type": "code",
   "execution_count": null,
   "metadata": {},
   "outputs": [],
   "source": [
    "DA_totals = df_DA_US.groupby('job_posted_mo').size()\n",
    "df_DA_US_pivot_percent = df_DA_US_pivot.iloc[:12].div(DA_totals/100,axis=0)\n",
    "df_DA_US_pivot_percent = df_DA_US_pivot_percent.reset_index()\n",
    "df_DA_US_pivot_percent['job_posted_month'] = df_DA_US_pivot_percent['job_posted_mo'].apply(lambda x: pd.to_datetime(x,format='%m').strftime('%b'))\n",
    "df_DA_US_pivot_percent.set_index('job_posted_month',inplace=True)\n",
    "df_DA_US_pivot_percent.drop(columns='job_posted_mo',inplace=True)\n",
    "df_DA_US_pivot_percent\n",
    "# type(DA_totals)"
   ]
  },
  {
   "cell_type": "code",
   "execution_count": 210,
   "metadata": {},
   "outputs": [],
   "source": [
    "df_plot = df_DA_US_pivot_percent.iloc[:,:5]\n",
    "# df_plot.plot(kind='line',marker='o')\n",
    "\n",
    "# plt.xlabel('')\n",
    "# plt.ylabel('%')\n",
    "# plt.title('% per each job skill across one year')\n",
    "# plt.legend(bbox_)\n",
    "\n",
    "# plt.show()"
   ]
  },
  {
   "cell_type": "code",
   "execution_count": 213,
   "metadata": {},
   "outputs": [
    {
     "data": {
      "text/plain": [
       "'Jan'"
      ]
     },
     "execution_count": 213,
     "metadata": {},
     "output_type": "execute_result"
    }
   ],
   "source": [
    "df_plot.index[0]"
   ]
  },
  {
   "cell_type": "code",
   "execution_count": null,
   "metadata": {},
   "outputs": [],
   "source": [
    "# df_DA_US_percent = df_DA_US_pivot.iloc[:12].div(DA_totals/100, axis=0)\n",
    "df_DA_US_pivot.iloc[:12]"
   ]
  },
  {
   "cell_type": "code",
   "execution_count": 63,
   "metadata": {},
   "outputs": [
    {
     "data": {
      "text/plain": [
       "(   0\n",
       " a  1\n",
       " b  2\n",
       " c  3,\n",
       "    a  b  c\n",
       " 0  1  2  3)"
      ]
     },
     "execution_count": 63,
     "metadata": {},
     "output_type": "execute_result"
    }
   ],
   "source": [
    "d = {'a': 1, 'b': 2, 'c': 3}\n",
    "ser = pd.Series(data=d, index=['a', 'b', 'c'])\n",
    "orig = ser.to_frame()\n",
    "origT = orig.T\n",
    "orig, origT\n"
   ]
  }
 ],
 "metadata": {
  "kernelspec": {
   "display_name": "py311",
   "language": "python",
   "name": "python3"
  },
  "language_info": {
   "codemirror_mode": {
    "name": "ipython",
    "version": 3
   },
   "file_extension": ".py",
   "mimetype": "text/x-python",
   "name": "python",
   "nbconvert_exporter": "python",
   "pygments_lexer": "ipython3",
   "version": "3.11.10"
  }
 },
 "nbformat": 4,
 "nbformat_minor": 2
}
